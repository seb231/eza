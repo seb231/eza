{
 "cells": [
  {
   "cell_type": "code",
   "execution_count": 219,
   "metadata": {},
   "outputs": [],
   "source": [
    "import requests\n",
    "import re\n",
    "import datetime\n",
    "from bs4 import BeautifulSoup"
   ]
  },
  {
   "cell_type": "code",
   "execution_count": 220,
   "metadata": {},
   "outputs": [],
   "source": [
    "patreon_content = requests.get('https://www.patreon.com/EasyAllies').content\n",
    "patreon_soup = BeautifulSoup(patreon_content, \"lxml\")"
   ]
  },
  {
   "cell_type": "code",
   "execution_count": 221,
   "metadata": {},
   "outputs": [],
   "source": [
    "main_content = patreon_soup.find('body').find('script').text"
   ]
  },
  {
   "cell_type": "code",
   "execution_count": 225,
   "metadata": {},
   "outputs": [
    {
     "name": "stdout",
     "output_type": "stream",
     "text": [
      "['6796', '4563978']\n"
     ]
    }
   ],
   "source": [
    "def search_patreon_content(term, content):\n",
    "    search = re.findall(r'\\b\\d+\\b', str(re.search(str(term + '.*(?:,)'), content)).split()[-1])\n",
    "    return search\n",
    "\n",
    "patron_count = search_patreon_content('patron_count', main_content)\n",
    "patreon_sum = search_patreon_content('pledge_sum', main_content)\n",
    "\n",
    "print(patron_count + patreon_sum)"
   ]
  },
  {
   "cell_type": "code",
   "execution_count": 226,
   "metadata": {},
   "outputs": [
    {
     "data": {
      "text/plain": [
       "'2018-05-11T23:34:29.373558'"
      ]
     },
     "execution_count": 226,
     "metadata": {},
     "output_type": "execute_result"
    }
   ],
   "source": [
    "now = datetime.datetime.now()\n",
    "now.isoformat()"
   ]
  },
  {
   "cell_type": "code",
   "execution_count": 227,
   "metadata": {},
   "outputs": [],
   "source": [
    "eza_content = requests.get('https://www.youtube.com/channel/UCZrxXp1reP8E353rZsB3jaA/videos').content\n",
    "eza_soup = BeautifulSoup(eza_content, \"lxml\")"
   ]
  },
  {
   "cell_type": "code",
   "execution_count": 229,
   "metadata": {},
   "outputs": [
    {
     "data": {
      "text/plain": [
       "['Easy Allies Podcast #111 - 5/9/18',\n",
       " \"It's a MARVELous Universe! - Reaction Shots Movie Podcast\",\n",
       " 'Huber Syndrome - Fortnite and Thanos',\n",
       " 'Tabletop Escapades - Season 2 Episode 15 \"Lightning Breath\"',\n",
       " \"Friend Code: Nintendo's Fiscal Year 2017 Financial Briefing\",\n",
       " 'Easy Allies Clips - April 30, 2018',\n",
       " 'Batman and Superman - A Super Hero Chat with Greg Miller',\n",
       " 'Nintendo Labo X Korg Gadget - Making a song - Easy Update',\n",
       " 'Easy Allies Patron Q&A - April 2018',\n",
       " 'Easy Allies Podcast #110 - 5/2/18',\n",
       " 'Community Showcase - April 2018',\n",
       " 'Huber Syndrome - Infinity War is Life',\n",
       " 'The Busted Trifecta: Episode 2',\n",
       " \"Red Dead Redemption 2 - Trailer 3 - Brandon's Reactions\",\n",
       " 'Tabletop Escapades - Season 2 Episode 14 \"A True Song\"',\n",
       " \"Don't Skip - Radiant Historia: Perfect Chronology\",\n",
       " 'Donkey Kong Country: Tropical Freeze - Easy Allies Review',\n",
       " 'Frame Trap - Episode 54 \"Final Fantasy VII Remake Concerns\"',\n",
       " 'Easy Allies Clips - April 23, 2018',\n",
       " 'Bosman and Jones Roleplay as Each Other in Mirror! - Easy Update',\n",
       " 'Easy Allies Podcast #109 - 4/25/18',\n",
       " 'Hard:Wired - Fiasconauts',\n",
       " 'Shadow of the Tomb Raider - First Impressions',\n",
       " 'Huber Syndrome - Don’t Give Up on Detroit: Become Human',\n",
       " 'God of War - Best Dad Quotes',\n",
       " 'Cup of Jones - Patreon and Fundraiser Update',\n",
       " 'Tabletop Escapades - Season 2 Episode 13 \"Blackpot Academy\"',\n",
       " 'Spoiler Mode - God of War with Cory Barlog',\n",
       " 'Easy Allies Clips - Week of April 16, 2018',\n",
       " 'Unboxing and Reboxing the Nintendo Labo Piano! - Easy Update']"
      ]
     },
     "execution_count": 229,
     "metadata": {},
     "output_type": "execute_result"
    }
   ],
   "source": [
    "titles = []\n",
    "\n",
    "video_content = eza_soup.find_all('a', attrs = {'class': 'yt-uix-sessionlink yt-uix-tile-link spf-link yt-ui-ellipsis yt-ui-ellipsis-2'})\n",
    "\n",
    "for title in video_content:\n",
    "    titles.append(title.get_text())\n",
    "\n",
    "titles"
   ]
  },
  {
   "cell_type": "code",
   "execution_count": null,
   "metadata": {},
   "outputs": [],
   "source": []
  }
 ],
 "metadata": {
  "kernelspec": {
   "display_name": "Python 3",
   "language": "python",
   "name": "python3"
  }
 },
 "nbformat": 4,
 "nbformat_minor": 2
}
