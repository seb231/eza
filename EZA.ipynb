{
 "cells": [
  {
   "cell_type": "code",
   "execution_count": 1,
   "metadata": {},
   "outputs": [],
   "source": [
    "import requests\n",
    "import re\n",
    "import datetime\n",
    "from bs4 import BeautifulSoup"
   ]
  },
  {
   "cell_type": "code",
   "execution_count": 2,
   "metadata": {},
   "outputs": [],
   "source": [
    "patreon_content = requests.get('https://www.patreon.com/EasyAllies').content\n",
    "patreon_soup = BeautifulSoup(patreon_content, \"lxml\")"
   ]
  },
  {
   "cell_type": "code",
   "execution_count": 3,
   "metadata": {},
   "outputs": [],
   "source": [
    "main_content = patreon_soup.find('body').find('script').text"
   ]
  },
  {
   "cell_type": "code",
   "execution_count": 4,
   "metadata": {},
   "outputs": [
    {
     "name": "stdout",
     "output_type": "stream",
     "text": [
      "['6817', '4592410']\n"
     ]
    }
   ],
   "source": [
    "def search_patreon_content(term, content):\n",
    "    search = re.findall(r'\\b\\d+\\b', str(re.search(str(term + '.*(?:,)'), content)).split()[-1])\n",
    "    return search\n",
    "\n",
    "patron_count = search_patreon_content('patron_count', main_content)\n",
    "patreon_sum = search_patreon_content('pledge_sum', main_content)\n",
    "\n",
    "print(patron_count + patreon_sum)"
   ]
  },
  {
   "cell_type": "code",
   "execution_count": 5,
   "metadata": {},
   "outputs": [
    {
     "data": {
      "text/plain": [
       "'2018-05-12T21:20:10.303833'"
      ]
     },
     "execution_count": 5,
     "metadata": {},
     "output_type": "execute_result"
    }
   ],
   "source": [
    "now = datetime.datetime.now()\n",
    "now.isoformat()"
   ]
  },
  {
   "cell_type": "code",
   "execution_count": 6,
   "metadata": {},
   "outputs": [],
   "source": [
    "eza_content = requests.get('https://www.youtube.com/channel/UCZrxXp1reP8E353rZsB3jaA/videos').content\n",
    "eza_soup = BeautifulSoup(eza_content, \"lxml\")"
   ]
  },
  {
   "cell_type": "code",
   "execution_count": 7,
   "metadata": {},
   "outputs": [
    {
     "data": {
      "text/plain": [
       "['Easy Allies Podcast #111 - 5/9/18',\n",
       " \"It's a MARVELous Universe! - Reaction Shots Movie Podcast\",\n",
       " 'Huber Syndrome - Fortnite and Thanos',\n",
       " 'Tabletop Escapades - Season 2 Episode 15 \"Lightning Breath\"',\n",
       " \"Friend Code: Nintendo's Fiscal Year 2017 Financial Briefing\",\n",
       " 'Easy Allies Clips - April 30, 2018',\n",
       " 'Batman and Superman - A Super Hero Chat with Greg Miller',\n",
       " 'Nintendo Labo X Korg Gadget - Making a song - Easy Update',\n",
       " 'Easy Allies Patron Q&A - April 2018',\n",
       " 'Easy Allies Podcast #110 - 5/2/18',\n",
       " 'Community Showcase - April 2018',\n",
       " 'Huber Syndrome - Infinity War is Life',\n",
       " 'The Busted Trifecta: Episode 2',\n",
       " \"Red Dead Redemption 2 - Trailer 3 - Brandon's Reactions\",\n",
       " 'Tabletop Escapades - Season 2 Episode 14 \"A True Song\"',\n",
       " \"Don't Skip - Radiant Historia: Perfect Chronology\",\n",
       " 'Donkey Kong Country: Tropical Freeze - Easy Allies Review',\n",
       " 'Frame Trap - Episode 54 \"Final Fantasy VII Remake Concerns\"',\n",
       " 'Easy Allies Clips - April 23, 2018',\n",
       " 'Bosman and Jones Roleplay as Each Other in Mirror! - Easy Update',\n",
       " 'Easy Allies Podcast #109 - 4/25/18',\n",
       " 'Hard:Wired - Fiasconauts',\n",
       " 'Shadow of the Tomb Raider - First Impressions',\n",
       " 'Huber Syndrome - Don’t Give Up on Detroit: Become Human',\n",
       " 'God of War - Best Dad Quotes',\n",
       " 'Cup of Jones - Patreon and Fundraiser Update',\n",
       " 'Tabletop Escapades - Season 2 Episode 13 \"Blackpot Academy\"',\n",
       " 'Spoiler Mode - God of War with Cory Barlog',\n",
       " 'Easy Allies Clips - Week of April 16, 2018',\n",
       " 'Unboxing and Reboxing the Nintendo Labo Piano! - Easy Update']"
      ]
     },
     "execution_count": 7,
     "metadata": {},
     "output_type": "execute_result"
    }
   ],
   "source": [
    "titles = []\n",
    "\n",
    "video_content = eza_soup.find_all('a', attrs = {'class': 'yt-uix-sessionlink yt-uix-tile-link spf-link yt-ui-ellipsis yt-ui-ellipsis-2'})\n",
    "\n",
    "for title in video_content:\n",
    "    titles.append(title.get_text())\n",
    "\n",
    "titles"
   ]
  },
  {
   "cell_type": "code",
   "execution_count": 71,
   "metadata": {},
   "outputs": [
    {
     "data": {
      "text/plain": [
       "['18,376',\n",
       " '5,451',\n",
       " '5,052',\n",
       " '3,704',\n",
       " '10,459',\n",
       " '11,420',\n",
       " '17,949',\n",
       " '9,802',\n",
       " '10,769',\n",
       " '29,229',\n",
       " '9,276',\n",
       " '9,911',\n",
       " '8,269',\n",
       " '27,412',\n",
       " '4,187',\n",
       " '12,498',\n",
       " '33,611',\n",
       " '33,468',\n",
       " '9,122',\n",
       " '17,393',\n",
       " '30,464',\n",
       " '6,956',\n",
       " '29,780',\n",
       " '10,756',\n",
       " '22,782',\n",
       " '15,200',\n",
       " '5,641',\n",
       " '106,841',\n",
       " '14,216',\n",
       " '20,475']"
      ]
     },
     "execution_count": 71,
     "metadata": {},
     "output_type": "execute_result"
    }
   ],
   "source": [
    "video_counter = eza_soup.find_all('ul', attrs = {'class': 'yt-lockup-meta-info'})\n",
    "views = []\n",
    "\n",
    "for view in video_counter:\n",
    "    view_content = view.contents[0]\n",
    "    numbers = re.findall(r'\\b\\d+\\b', str(view_content))\n",
    "    x = \",\".join(numbers)\n",
    "    views.append(x)\n",
    "    \n",
    "views"
   ]
  },
  {
   "cell_type": "code",
   "execution_count": null,
   "metadata": {},
   "outputs": [],
   "source": []
  }
 ],
 "metadata": {
  "kernelspec": {
   "display_name": "Python 3",
   "language": "python",
   "name": "python3"
  },
  "language_info": {
   "codemirror_mode": {
    "name": "ipython",
    "version": 3
   },
   "file_extension": ".py",
   "mimetype": "text/x-python",
   "name": "python",
   "nbconvert_exporter": "python",
   "pygments_lexer": "ipython3",
   "version": "3.6.4"
  }
 },
 "nbformat": 4,
 "nbformat_minor": 2
}
